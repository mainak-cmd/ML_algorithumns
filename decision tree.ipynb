{
 "cells": [
  {
   "cell_type": "code",
   "execution_count": null,
   "metadata": {},
   "outputs": [],
   "source": [
    "Decision Trees (DTs) are a non-parametric supervised learning method used for classification and regression."
   ]
  },
  {
   "cell_type": "markdown",
   "metadata": {},
   "source": [
    "Consider performing dimensionality reduction  beforehand to give your tree a better chance of finding features that are discriminative.and categorical encodeing must be done"
   ]
  },
  {
   "cell_type": "code",
   "execution_count": null,
   "metadata": {},
   "outputs": [],
   "source": [
    "advantages "
   ]
  },
  {
   "cell_type": "code",
   "execution_count": null,
   "metadata": {},
   "outputs": [],
   "source": [
    "Simple to understand and to interpret. Trees can be visualised.\n",
    "Requires little data preparation.(Note however that this module does not support missing values.)\n",
    "The cost of using the tree is logarithmic in the number of data points used to train the tree.\n",
    "Able to handle both numerical and categorical data.\n",
    "Able to handle multi-output problems.\n",
    "Uses a white box model\n",
    "Possible to validate a model using statistical tests. \n",
    "Performs well even if its assumptions are somewhat violated by the true model from which the data were generated."
   ]
  },
  {
   "cell_type": "code",
   "execution_count": null,
   "metadata": {},
   "outputs": [],
   "source": [
    " disadvantages"
   ]
  },
  {
   "cell_type": "code",
   "execution_count": null,
   "metadata": {},
   "outputs": [],
   "source": [
    "Decision-tree learners can create over-complex trees that do not generalise the data well. This is called overfitting.\n",
    "( pruning,setting the maximum depth of the tree are necessary to avoid this problem)\n",
    "\n",
    "Decision trees can be unstable because small variations in the data might result in a completely different tree being generated.\n",
    "(This problem is mitigated by using decision trees within an ensemble.)\n",
    "\n",
    "Predictions of decision trees are neither smooth nor continuous,it is useing piecewise constant approximations \n",
    "\n",
    "The problem of learning an optimal decision tree is known to be NP-complete under several aspects of optimality and even for simple concepts.\n",
    "(This can be mitigated by training multiple trees in an ensemble learner, where the features and samples are randomly sampled with replacement.)\n",
    "\n",
    "Decision tree learners create biased trees if some classes dominate.\n",
    "(recommended to balance the dataset prior to fitting with the decision tree)"
   ]
  },
  {
   "cell_type": "markdown",
   "metadata": {},
   "source": [
    "# Classification"
   ]
  },
  {
   "cell_type": "markdown",
   "metadata": {},
   "source": [
    "# Parameters"
   ]
  },
  {
   "cell_type": "code",
   "execution_count": null,
   "metadata": {},
   "outputs": [],
   "source": [
    "criterion"
   ]
  },
  {
   "cell_type": "code",
   "execution_count": null,
   "metadata": {},
   "outputs": [],
   "source": [
    "The function to measure the quality of a split.\n",
    "Supported criteria are “gini” for the Gini impurity and “entropy” for the information gain."
   ]
  },
  {
   "cell_type": "code",
   "execution_count": null,
   "metadata": {},
   "outputs": [],
   "source": [
    "splitter"
   ]
  },
  {
   "cell_type": "code",
   "execution_count": null,
   "metadata": {},
   "outputs": [],
   "source": [
    "The strategy used to choose the split at each node\n",
    "Supported strategies are “best” to choose the best split and “random” to choose the best random split."
   ]
  },
  {
   "cell_type": "code",
   "execution_count": null,
   "metadata": {},
   "outputs": [],
   "source": [
    "max_depth"
   ]
  },
  {
   "cell_type": "code",
   "execution_count": null,
   "metadata": {},
   "outputs": [],
   "source": [
    "The maximum depth of the tree. \n",
    "number of samples required to populate the tree becomme doubles for each additional level the tree grows to.\n",
    "Use max_depth to control the size of the tree to prevent overfitting.\n",
    "\n",
    "If None, then nodes are expanded until all leaves are pure or\n",
    "until all leaves contain less than min_samples_split samples."
   ]
  },
  {
   "cell_type": "code",
   "execution_count": null,
   "metadata": {},
   "outputs": [],
   "source": [
    "min_samples_split"
   ]
  },
  {
   "cell_type": "code",
   "execution_count": null,
   "metadata": {},
   "outputs": [],
   "source": [
    "The minimum number of samples required to split an internal node\n",
    "it can support bothint and flot\n",
    "A very small number will usually mean the tree will overfit, whereas a large number will prevent the tree from learning the data. \n",
    "\n",
    "min_samples_split considers samples directly and independent of sample_weight, if provided \n"
   ]
  },
  {
   "cell_type": "code",
   "execution_count": null,
   "metadata": {},
   "outputs": [],
   "source": [
    "min_impurity_decrease"
   ]
  },
  {
   "cell_type": "code",
   "execution_count": null,
   "metadata": {},
   "outputs": [],
   "source": [
    "starting criteria for A node to split."
   ]
  },
  {
   "cell_type": "code",
   "execution_count": null,
   "metadata": {},
   "outputs": [],
   "source": [
    "min_samples_leaf"
   ]
  },
  {
   "cell_type": "markdown",
   "metadata": {},
   "source": [
    "The minimum number of samples required to be at a leaf node.\n",
    "If int, then consider min_samples_leaf as the minimum number.\n",
    "If float, then min_samples_leaf is a fraction and ceil(min_samples_leaf * n_samples) are the minimum number of samples for each node.\n",
    "For classification with few classes, min_samples_leaf=1 (for bianary and n for maltinomial) is often the best choice.\n",
    "For regression with few classes, min_samples_leaf=5 is often the best choice."
   ]
  },
  {
   "cell_type": "code",
   "execution_count": null,
   "metadata": {},
   "outputs": [],
   "source": [
    "max_leaf_nodes"
   ]
  },
  {
   "cell_type": "code",
   "execution_count": null,
   "metadata": {},
   "outputs": [],
   "source": [
    "Grow a tree with max_leaf_nodes in best-first fashion.\n",
    "If None then unlimited number of leaf nodes."
   ]
  },
  {
   "cell_type": "code",
   "execution_count": null,
   "metadata": {},
   "outputs": [],
   "source": [
    "min_impurity_split"
   ]
  },
  {
   "cell_type": "markdown",
   "metadata": {},
   "source": [
    "Threshold for early stopping in tree growth. A node will split if its impurity is above the threshold, otherwise it is a leaf.\n",
    "stoping criteria for a node"
   ]
  },
  {
   "cell_type": "code",
   "execution_count": null,
   "metadata": {},
   "outputs": [],
   "source": [
    "min_weight_fraction_leaf"
   ]
  },
  {
   "cell_type": "code",
   "execution_count": null,
   "metadata": {},
   "outputs": [],
   "source": [
    "the sum total of weights required to be at a leaf node\n",
    "\n",
    "Samples have equal weight when sample_weight is not provided.\n"
   ]
  },
  {
   "cell_type": "code",
   "execution_count": null,
   "metadata": {},
   "outputs": [],
   "source": [
    "min_weight_fraction_leaf or min_impurity_decrease if accounting for sample weights is required at splits."
   ]
  },
  {
   "cell_type": "code",
   "execution_count": null,
   "metadata": {},
   "outputs": [],
   "source": [
    "class_weight"
   ]
  },
  {
   "cell_type": "code",
   "execution_count": null,
   "metadata": {},
   "outputs": [],
   "source": [
    "Weights associated with classes in the form {class_label: weight}. If None, all classes are supposed to have weight one.\n",
    "For multi-output problems, a list of dicts can be provided in the same order as the columns of y."
   ]
  },
  {
   "cell_type": "code",
   "execution_count": null,
   "metadata": {},
   "outputs": [],
   "source": [
    "ccp_alpha"
   ]
  },
  {
   "cell_type": "code",
   "execution_count": null,
   "metadata": {},
   "outputs": [],
   "source": [
    "Complexity parameter used for Minimal Cost-Complexity Pruning. \n",
    "The subtree with the largest cost complexity that is smaller than ccp_alpha will be chosen\n"
   ]
  },
  {
   "cell_type": "code",
   "execution_count": null,
   "metadata": {},
   "outputs": [],
   "source": [
    "random_state"
   ]
  },
  {
   "cell_type": "code",
   "execution_count": null,
   "metadata": {},
   "outputs": [],
   "source": [
    "Controls the randomness of the estimator"
   ]
  },
  {
   "cell_type": "code",
   "execution_count": null,
   "metadata": {},
   "outputs": [],
   "source": [
    "max_features"
   ]
  },
  {
   "cell_type": "code",
   "execution_count": null,
   "metadata": {},
   "outputs": [],
   "source": [
    "The number of features to consider when looking for the best split:"
   ]
  },
  {
   "cell_type": "code",
   "execution_count": null,
   "metadata": {},
   "outputs": [],
   "source": [
    "If int, then consider max_features features at each split.\n",
    "\n",
    "If float, then max_features is a fraction and int(max_features * n_features) features are considered at each split.\n",
    "\n",
    "If “auto”, then max_features=sqrt(n_features).\n",
    "\n",
    "If “sqrt”, then max_features=sqrt(n_features).\n",
    "\n",
    "If “log2”, then max_features=log2(n_features).\n",
    "\n",
    "If None, then max_features=n_features."
   ]
  },
  {
   "cell_type": "markdown",
   "metadata": {},
   "source": [
    "# load_breast_cancer"
   ]
  },
  {
   "cell_type": "code",
   "execution_count": 1,
   "metadata": {},
   "outputs": [],
   "source": [
    "from sklearn.datasets import load_breast_cancer\n",
    "from sklearn.model_selection import train_test_split\n",
    "from sklearn.model_selection import GridSearchCV\n",
    "from sklearn.tree import DecisionTreeClassifier\n",
    "from sklearn import preprocessing\n",
    "from  sklearn.tree import plot_tree\n",
    "import pandas as pd"
   ]
  },
  {
   "cell_type": "code",
   "execution_count": 2,
   "metadata": {},
   "outputs": [],
   "source": [
    "da=load_breast_cancer()"
   ]
  },
  {
   "cell_type": "code",
   "execution_count": 3,
   "metadata": {},
   "outputs": [],
   "source": [
    "X1=da.data\n",
    "y1=da.target"
   ]
  },
  {
   "cell_type": "code",
   "execution_count": 4,
   "metadata": {},
   "outputs": [],
   "source": [
    "\n",
    "scaled_X_1 = preprocessing.scale(X1)\n",
    "X_train1, X_test1, y_train1, y_test1 = train_test_split(scaled_X_1, y1)"
   ]
  },
  {
   "cell_type": "code",
   "execution_count": 5,
   "metadata": {},
   "outputs": [
    {
     "data": {
      "text/plain": [
       "DecisionTreeClassifier()"
      ]
     },
     "execution_count": 5,
     "metadata": {},
     "output_type": "execute_result"
    }
   ],
   "source": [
    "DecisionTreeClassifier( criterion='gini', #The function to measure the quality of a split.(fixed)\n",
    "                       splitter='best',#The strategy used to choose the split at each node.(fixed)\n",
    "                       max_depth=None, #The maximum depth of the tree that expanded until all leaves contain less than (chosen)                                              min_samples_split samples.(fixed )\n",
    "                       min_samples_split=2,#The minimum number of samples required to split an internal node (fixed)\n",
    "                       min_samples_leaf=1, #The minimum number of samples required to be at a leaf node.(fixed)\n",
    "                       min_weight_fraction_leaf=0.0,#Samples have equal weight when sample_weight is not provided.(fixed)\n",
    "                       max_features=None, #The number of features to consider when looking for the best split(chosen.)\n",
    "                       random_state=None, #Controls the randomness of the estimator. \n",
    "                       max_leaf_nodes=None, #Grow a tree with max_leaf_nodes in best-first fashion.(fixed)\n",
    "                       min_impurity_decrease=0.0, #starting criteria for A node to split.(fiixed)\n",
    "                       min_impurity_split=None, #Threshold for early stopping in tree growth. (fiixed)\n",
    "                       class_weight=None, #Weights associated with classes \n",
    "                       ccp_alpha=0.0#Complexity parameter used for Minimal Cost-Complexity Pruning.(fiixed.)\n",
    "                      )"
   ]
  },
  {
   "cell_type": "markdown",
   "metadata": {},
   "source": [
    "# approach1"
   ]
  },
  {
   "cell_type": "markdown",
   "metadata": {},
   "source": [
    "most technical way "
   ]
  },
  {
   "cell_type": "code",
   "execution_count": 6,
   "metadata": {},
   "outputs": [],
   "source": [
    "DL_1=DecisionTreeClassifier(max_features=None) #If None, then max_features=n_features.\n",
    "DL_2=DecisionTreeClassifier(max_features='auto') # then max_features=sqrt(n_features).\n",
    "DL_3=DecisionTreeClassifier(max_features='sqrt') #then max_features=sqrt(n_features).\n",
    "DL_4=DecisionTreeClassifier(max_features='log2') #then max_features=log2(n_features)"
   ]
  },
  {
   "cell_type": "code",
   "execution_count": null,
   "metadata": {},
   "outputs": [],
   "source": []
  },
  {
   "cell_type": "code",
   "execution_count": 82,
   "metadata": {},
   "outputs": [],
   "source": [
    "def parameter_model(parameter):\n",
    "    DL_1=DecisionTreeClassifier(max_features=parameter)\n",
    "    ccp_alphas=list(DL_1.cost_complexity_pruning_path(X_train1, y_train1, sample_weight=None).ccp_alphas)\n",
    "    max_depth=[]\n",
    "    for i in ccp_alphas:\n",
    "        dl=DecisionTreeClassifier(ccp_alpha=i)\n",
    "        tr=dl.fit(X_train1, y_train1)\n",
    "        max_depth.append(tr.tree_.max_depth)\n",
    "    parameters1={'max_depth':max_depth, ##Complexity parameter used for Minimal Cost-Complexity Pruning.\n",
    "             'ccp_alpha':ccp_alphas##Complexity parameter used for Minimal Cost-Complexity Pruning.\n",
    "            }\n",
    "    clf_re_1 = GridSearchCV(DL_1,#estimator funtions \n",
    "                    parameters1,#define parameters\n",
    "                    scoring='accuracy',#Strategy to evaluate the performance of the cross-validated model on the test set\n",
    "                  )\n",
    "    classic_model=clf_re_1.fit(X_train1, y_train1)\n",
    "    tree_best_1=classic_model.best_estimator_.fit(X_train1, y_train1)\n",
    "    y_pred=tree_best_1.predict(X_test1)\n",
    "    ac_1=accuracy_score(y_test1,y_pred, normalize=True)\n",
    "    \n",
    "    model_detail= pd.DataFrame(\n",
    "      {\n",
    "        \"best score\": [classic_model.best_score_],\n",
    "        \"accuracy_score\": [ac_1], \n",
    "        \"depth\":[classic_model.best_estimator_.max_depth],\n",
    "        \"ccp_alpha\":[classic_model.best_estimator_.ccp_alpha],\n",
    "        \"max_features\":[classic_model.best_estimator_.max_features]\n",
    "      }\n",
    "          )\n",
    "    return   model_detail\n",
    "        \n",
    "    "
   ]
  },
  {
   "cell_type": "code",
   "execution_count": 87,
   "metadata": {},
   "outputs": [],
   "source": [
    "p=parameter_model('log2')"
   ]
  },
  {
   "cell_type": "code",
   "execution_count": 88,
   "metadata": {},
   "outputs": [
    {
     "data": {
      "text/html": [
       "<div>\n",
       "<style scoped>\n",
       "    .dataframe tbody tr th:only-of-type {\n",
       "        vertical-align: middle;\n",
       "    }\n",
       "\n",
       "    .dataframe tbody tr th {\n",
       "        vertical-align: top;\n",
       "    }\n",
       "\n",
       "    .dataframe thead th {\n",
       "        text-align: right;\n",
       "    }\n",
       "</style>\n",
       "<table border=\"1\" class=\"dataframe\">\n",
       "  <thead>\n",
       "    <tr style=\"text-align: right;\">\n",
       "      <th></th>\n",
       "      <th>best score</th>\n",
       "      <th>accuracy_score</th>\n",
       "      <th>depth</th>\n",
       "      <th>ccp_alpha</th>\n",
       "      <th>max_features</th>\n",
       "    </tr>\n",
       "  </thead>\n",
       "  <tbody>\n",
       "    <tr>\n",
       "      <th>0</th>\n",
       "      <td>0.946019</td>\n",
       "      <td>0.853147</td>\n",
       "      <td>6</td>\n",
       "      <td>0.009248</td>\n",
       "      <td>log2</td>\n",
       "    </tr>\n",
       "  </tbody>\n",
       "</table>\n",
       "</div>"
      ],
      "text/plain": [
       "   best score  accuracy_score  depth  ccp_alpha max_features\n",
       "0    0.946019        0.853147      6   0.009248         log2"
      ]
     },
     "execution_count": 88,
     "metadata": {},
     "output_type": "execute_result"
    }
   ],
   "source": [
    "p"
   ]
  },
  {
   "cell_type": "code",
   "execution_count": 67,
   "metadata": {},
   "outputs": [],
   "source": [
    "p1=parameter_model(None)\n",
    "p2=parameter_model('auto')\n",
    "p3=parameter_model('sqrt')\n",
    "p4=parameter_model('log2')"
   ]
  },
  {
   "cell_type": "code",
   "execution_count": 68,
   "metadata": {},
   "outputs": [
    {
     "data": {
      "text/plain": [
       "((0.9370629370629371,\n",
       "  DecisionTreeClassifier(ccp_alpha=0.007511737089201878, max_depth=6),\n",
       "  0.9506976744186048),\n",
       " (0.9370629370629371,\n",
       "  DecisionTreeClassifier(ccp_alpha=0.007381185508774571, max_depth=5,\n",
       "                         max_features='auto'),\n",
       "  0.9437209302325582),\n",
       " (0.916083916083916,\n",
       "  DecisionTreeClassifier(ccp_alpha=0.0077100534239922264, max_depth=4,\n",
       "                         max_features='sqrt'),\n",
       "  0.9554309165526675),\n",
       " (0.8881118881118881,\n",
       "  DecisionTreeClassifier(ccp_alpha=0.005086071987480439, max_depth=3,\n",
       "                         max_features='log2'),\n",
       "  0.9506976744186046))"
      ]
     },
     "execution_count": 68,
     "metadata": {},
     "output_type": "execute_result"
    }
   ],
   "source": [
    "p1,p2,p3,p4"
   ]
  },
  {
   "cell_type": "code",
   "execution_count": 19,
   "metadata": {},
   "outputs": [],
   "source": [
    "from sklearn.metrics import f1_score"
   ]
  },
  {
   "cell_type": "markdown",
   "metadata": {},
   "source": [
    "# detail approach"
   ]
  },
  {
   "cell_type": "code",
   "execution_count": 7,
   "metadata": {},
   "outputs": [],
   "source": [
    "DL_1=DecisionTreeClassifier(max_features=None) #If None, then max_features=n_features.\n",
    "DL_2=DecisionTreeClassifier(max_features='auto') # then max_features=sqrt(n_features).\n",
    "DL_3=DecisionTreeClassifier(max_features='sqrt') #then max_features=sqrt(n_features).\n",
    "DL_4=DecisionTreeClassifier(max_features='log2') #then max_features=log2(n_features)"
   ]
  },
  {
   "cell_type": "code",
   "execution_count": 8,
   "metadata": {},
   "outputs": [],
   "source": [
    "ccp_alphas_1=list(DL_1.cost_complexity_pruning_path(X_train1, y_train1, sample_weight=None).ccp_alphas)\n",
    "ccp_alphas_2=list(DL_2.cost_complexity_pruning_path(X_train1, y_train1, sample_weight=None).ccp_alphas)\n",
    "ccp_alphas_3=list(DL_3.cost_complexity_pruning_path(X_train1, y_train1, sample_weight=None).ccp_alphas)\n",
    "ccp_alphas_4=list(DL_4.cost_complexity_pruning_path(X_train1, y_train1, sample_weight=None).ccp_alphas)"
   ]
  },
  {
   "cell_type": "code",
   "execution_count": 9,
   "metadata": {},
   "outputs": [],
   "source": [
    "def max_depth(ccp_alphas):\n",
    "    max_depth=[]\n",
    "    for i in ccp_alphas:\n",
    "        dl=DecisionTreeClassifier(ccp_alpha=i)\n",
    "        tr=dl.fit(X_train1, y_train1)\n",
    "        max_depth.append(tr.tree_.max_depth)\n",
    "    return  max_depth"
   ]
  },
  {
   "cell_type": "code",
   "execution_count": 10,
   "metadata": {},
   "outputs": [],
   "source": [
    "max_depth_1=max_depth(ccp_alphas_1)\n",
    "max_depth_2=max_depth(ccp_alphas_2)\n",
    "max_depth_3=max_depth(ccp_alphas_3)\n",
    "max_depth_4=max_depth(ccp_alphas_4)"
   ]
  },
  {
   "cell_type": "code",
   "execution_count": 11,
   "metadata": {},
   "outputs": [],
   "source": [
    "parameters1={'max_depth':max_depth_1, ##Complexity parameter used for Minimal Cost-Complexity Pruning.\n",
    "             'ccp_alpha':ccp_alphas_1##Complexity parameter used for Minimal Cost-Complexity Pruning.\n",
    "            }\n",
    "\n",
    "parameters2={'max_depth':max_depth_2, ##Complexity parameter used for Minimal Cost-Complexity Pruning.\n",
    "             'ccp_alpha':ccp_alphas_2##Complexity parameter used for Minimal Cost-Complexity Pruning.\n",
    "            }\n",
    "\n",
    "parameters3={'max_depth':max_depth_3, ##Complexity parameter used for Minimal Cost-Complexity Pruning.\n",
    "             'ccp_alpha':ccp_alphas_3##Complexity parameter used for Minimal Cost-Complexity Pruning.\n",
    "            }\n",
    "\n",
    "parameters4={'max_depth':max_depth_4, ##Complexity parameter used for Minimal Cost-Complexity Pruning.\n",
    "             'ccp_alpha':ccp_alphas_4##Complexity parameter used for Minimal Cost-Complexity Pruning.\n",
    "            }"
   ]
  },
  {
   "cell_type": "code",
   "execution_count": 12,
   "metadata": {},
   "outputs": [],
   "source": [
    "clf_re_1 = GridSearchCV(DL_1,#estimator funtions \n",
    "                    parameters1,#define parameters\n",
    "                    scoring='accuracy',#Strategy to evaluate the performance of the cross-validated model on the test set\n",
    "                    refit=True,#Refit an estimator using the best found parameters on the whole dataset.\n",
    "                    n_jobs=None,#1 CPU core used when parallelizing over classes\n",
    "                    cv=None,#None, to use the default 5-fold cross validation,\n",
    "                    verbose=0,#not to show wearning massage\n",
    "                    pre_dispatch='2*n_jobs',\n",
    "                   return_train_score=False\n",
    "                  )\n",
    "\n",
    "clf_re_2 = GridSearchCV(DL_2,#estimator funtions \n",
    "                    parameters2,#define parameters\n",
    "                    scoring='accuracy',#Strategy to evaluate the performance of the cross-validated model on the test set\n",
    "                    refit=True,#Refit an estimator using the best found parameters on the whole dataset.\n",
    "                    n_jobs=None,#1 CPU core used when parallelizing over classes\n",
    "                    cv=None,#None, to use the default 5-fold cross validation,\n",
    "                    verbose=0,#not to show wearning massage\n",
    "                    pre_dispatch='2*n_jobs',\n",
    "                   return_train_score=False\n",
    "                  )\n",
    "\n",
    "\n",
    "clf_re_3 = GridSearchCV(DL_3,#estimator funtions \n",
    "                    parameters3,#define parameters\n",
    "                    scoring='accuracy',#Strategy to evaluate the performance of the cross-validated model on the test set\n",
    "                    refit=True,#Refit an estimator using the best found parameters on the whole dataset.\n",
    "                    n_jobs=None,#1 CPU core used when parallelizing over classes\n",
    "                    cv=None,#None, to use the default 5-fold cross validation,\n",
    "                    verbose=0,#not to show wearning massage\n",
    "                    pre_dispatch='2*n_jobs',\n",
    "                   return_train_score=False\n",
    "                  )\n",
    "\n",
    "\n",
    "clf_re_4 = GridSearchCV(DL_4,#estimator funtions \n",
    "                    parameters4,#define parameters\n",
    "                    scoring='accuracy',#Strategy to evaluate the performance of the cross-validated model on the test set\n",
    "                    refit=True,#Refit an estimator using the best found parameters on the whole dataset.\n",
    "                    n_jobs=None,#1 CPU core used when parallelizing over classes\n",
    "                    cv=None,#None, to use the default 5-fold cross validation,\n",
    "                    verbose=0,#not to show wearning massage\n",
    "                    pre_dispatch='2*n_jobs',\n",
    "                   return_train_score=False\n",
    "                  )"
   ]
  },
  {
   "cell_type": "code",
   "execution_count": 13,
   "metadata": {},
   "outputs": [],
   "source": [
    "import warnings\n",
    "warnings.filterwarnings(\"ignore\")"
   ]
  },
  {
   "cell_type": "code",
   "execution_count": 14,
   "metadata": {},
   "outputs": [],
   "source": [
    "classic_model=clf_re_1.fit(X_train1, y_train1)\n",
    "classic_model_1=clf_re_2.fit(X_train1, y_train1)\n",
    "classic_model_2=clf_re_3.fit(X_train1, y_train1)\n",
    "classic_model_3=clf_re_4.fit(X_train1, y_train1)"
   ]
  },
  {
   "cell_type": "code",
   "execution_count": 15,
   "metadata": {},
   "outputs": [],
   "source": [
    "tree_best_1=classic_model.best_estimator_.fit(X_train1, y_train1)\n",
    "tree_best_2=classic_model_1.best_estimator_.fit(X_train1, y_train1)\n",
    "tree_best_3=classic_model_2.best_estimator_.fit(X_train1, y_train1)\n",
    "tree_best_4=classic_model_3.best_estimator_.fit(X_train1, y_train1)\n"
   ]
  },
  {
   "cell_type": "code",
   "execution_count": 16,
   "metadata": {},
   "outputs": [],
   "source": [
    "y_pred_1=tree_best_1.predict(X_test1)\n",
    "y_pred_2=tree_best_2.predict(X_test1)\n",
    "y_pred_3=tree_best_3.predict(X_test1)\n",
    "y_pred_4=tree_best_4.predict(X_test1)"
   ]
  },
  {
   "cell_type": "code",
   "execution_count": 17,
   "metadata": {},
   "outputs": [],
   "source": [
    "from sklearn.metrics import accuracy_score\n",
    "ac_1=accuracy_score(y_test1,y_pred_1, normalize=True)\n",
    "ac_2=accuracy_score(y_test1,y_pred_2, normalize=True)\n",
    "ac_3=accuracy_score(y_test1,y_pred_3, normalize=True)\n",
    "ac_4=accuracy_score(y_test1,y_pred_4, normalize=True)"
   ]
  },
  {
   "cell_type": "code",
   "execution_count": 20,
   "metadata": {},
   "outputs": [],
   "source": [
    "model_detail= pd.DataFrame(\n",
    "      {\n",
    "        \"model\": ['classic_model','classic_model_1','classic_model_2','classic_model_3'],\n",
    "        \"best score\": [classic_model.best_score_,classic_model_1.best_score_,classic_model_2.best_score_,classic_model_3.best_score_],\n",
    "        \"max_features\": ['None','auto','sqrt','log2'],\n",
    "        \"f1_score\":[f1_score(y_test1,y_pred_1, average='weighted'),f1_score(y_test1,y_pred_2, average='weighted'),f1_score(y_test1,y_pred_3, average='weighted'),f1_score(y_test1,y_pred_4, average='weighted')],\n",
    "        \"accuracy_score\": [ac_1,ac_2,ac_3,ac_4], \n",
    "        \"depth\":[tree_best_1.tree_.max_depth,tree_best_2.tree_.max_depth,tree_best_3.tree_.max_depth,tree_best_4.tree_.max_depth]\n",
    "      }\n",
    ")"
   ]
  },
  {
   "cell_type": "code",
   "execution_count": 21,
   "metadata": {},
   "outputs": [
    {
     "data": {
      "text/html": [
       "<div>\n",
       "<style scoped>\n",
       "    .dataframe tbody tr th:only-of-type {\n",
       "        vertical-align: middle;\n",
       "    }\n",
       "\n",
       "    .dataframe tbody tr th {\n",
       "        vertical-align: top;\n",
       "    }\n",
       "\n",
       "    .dataframe thead th {\n",
       "        text-align: right;\n",
       "    }\n",
       "</style>\n",
       "<table border=\"1\" class=\"dataframe\">\n",
       "  <thead>\n",
       "    <tr style=\"text-align: right;\">\n",
       "      <th></th>\n",
       "      <th>model</th>\n",
       "      <th>best score</th>\n",
       "      <th>max_features</th>\n",
       "      <th>f1_score</th>\n",
       "      <th>accuracy_score</th>\n",
       "      <th>depth</th>\n",
       "    </tr>\n",
       "  </thead>\n",
       "  <tbody>\n",
       "    <tr>\n",
       "      <th>0</th>\n",
       "      <td>classic_model</td>\n",
       "      <td>0.953051</td>\n",
       "      <td>None</td>\n",
       "      <td>0.936452</td>\n",
       "      <td>0.937063</td>\n",
       "      <td>3</td>\n",
       "    </tr>\n",
       "    <tr>\n",
       "      <th>1</th>\n",
       "      <td>classic_model_1</td>\n",
       "      <td>0.945964</td>\n",
       "      <td>auto</td>\n",
       "      <td>0.937247</td>\n",
       "      <td>0.937063</td>\n",
       "      <td>4</td>\n",
       "    </tr>\n",
       "    <tr>\n",
       "      <th>2</th>\n",
       "      <td>classic_model_2</td>\n",
       "      <td>0.948345</td>\n",
       "      <td>sqrt</td>\n",
       "      <td>0.876585</td>\n",
       "      <td>0.874126</td>\n",
       "      <td>5</td>\n",
       "    </tr>\n",
       "    <tr>\n",
       "      <th>3</th>\n",
       "      <td>classic_model_3</td>\n",
       "      <td>0.938988</td>\n",
       "      <td>log2</td>\n",
       "      <td>0.896947</td>\n",
       "      <td>0.895105</td>\n",
       "      <td>5</td>\n",
       "    </tr>\n",
       "  </tbody>\n",
       "</table>\n",
       "</div>"
      ],
      "text/plain": [
       "             model  best score max_features  f1_score  accuracy_score  depth\n",
       "0    classic_model    0.953051         None  0.936452        0.937063      3\n",
       "1  classic_model_1    0.945964         auto  0.937247        0.937063      4\n",
       "2  classic_model_2    0.948345         sqrt  0.876585        0.874126      5\n",
       "3  classic_model_3    0.938988         log2  0.896947        0.895105      5"
      ]
     },
     "execution_count": 21,
     "metadata": {},
     "output_type": "execute_result"
    }
   ],
   "source": [
    "model_detail"
   ]
  },
  {
   "cell_type": "code",
   "execution_count": 236,
   "metadata": {},
   "outputs": [
    {
     "data": {
      "text/plain": [
       "array([[44,  7],\n",
       "       [ 6, 86]], dtype=int64)"
      ]
     },
     "execution_count": 236,
     "metadata": {},
     "output_type": "execute_result"
    }
   ],
   "source": [
    "from sklearn.metrics import confusion_matrix\n",
    "confusion_matrix(y_test1, y_pred_2)"
   ]
  },
  {
   "cell_type": "markdown",
   "metadata": {},
   "source": [
    "classic_model_1 is best model"
   ]
  },
  {
   "cell_type": "markdown",
   "metadata": {},
   "source": [
    "# approach2"
   ]
  },
  {
   "cell_type": "markdown",
   "metadata": {},
   "source": [
    "chose parameter randomely"
   ]
  },
  {
   "cell_type": "code",
   "execution_count": 45,
   "metadata": {},
   "outputs": [],
   "source": [
    "parameters4={'max_features':['auto', 'sqrt', 'log2'],#The number of features to consider when looking for the best split\n",
    "             'max_depth':[3,4,5,8], ##Complexity parameter used for Minimal Cost-Complexity Pruning.\n",
    "             'ccp_alpha':[0,0.01,0.03,0.1]##Complexity parameter used for Minimal Cost-Complexity Pruning.\n",
    "            }"
   ]
  },
  {
   "cell_type": "code",
   "execution_count": 46,
   "metadata": {},
   "outputs": [],
   "source": [
    "clf_re = GridSearchCV(DL,#estimator funtions \n",
    "                    parameters4,#define parameters\n",
    "                    scoring='accuracy',#Strategy to evaluate the performance of the cross-validated model on the test set\n",
    "                    refit=True,#Refit an estimator using the best found parameters on the whole dataset.\n",
    "                    n_jobs=None,#1 CPU core used when parallelizing over classes\n",
    "                    cv=None,#None, to use the default 5-fold cross validation,\n",
    "                    verbose=0,#not to show wearning massage\n",
    "                    pre_dispatch='2*n_jobs',\n",
    "                   return_train_score=False\n",
    "                  )"
   ]
  },
  {
   "cell_type": "code",
   "execution_count": 47,
   "metadata": {},
   "outputs": [],
   "source": [
    "model2=clf_re.fit(X_train1, y_train1)"
   ]
  },
  {
   "cell_type": "code",
   "execution_count": 48,
   "metadata": {},
   "outputs": [
    {
     "data": {
      "text/plain": [
       "DecisionTreeClassifier(ccp_alpha=0.01, max_depth=8, max_features='auto')"
      ]
     },
     "execution_count": 48,
     "metadata": {},
     "output_type": "execute_result"
    }
   ],
   "source": [
    "model2.best_estimator_"
   ]
  },
  {
   "cell_type": "code",
   "execution_count": 49,
   "metadata": {},
   "outputs": [
    {
     "data": {
      "text/plain": [
       "0.9389876880984952"
      ]
     },
     "execution_count": 49,
     "metadata": {},
     "output_type": "execute_result"
    }
   ],
   "source": [
    "model2.best_score_"
   ]
  },
  {
   "cell_type": "code",
   "execution_count": 50,
   "metadata": {},
   "outputs": [],
   "source": [
    "model=DecisionTreeClassifier(ccp_alpha=0, max_depth=5, max_features='sqrt')"
   ]
  },
  {
   "cell_type": "code",
   "execution_count": 51,
   "metadata": {},
   "outputs": [],
   "source": [
    "tree=model.fit(X_train1, y_train1)"
   ]
  },
  {
   "cell_type": "code",
   "execution_count": 52,
   "metadata": {},
   "outputs": [
    {
     "data": {
      "text/plain": [
       "[Text(186.7153846153846, 195.696, 'X[22] <= 0.006\\ngini = 0.459\\nsamples = 426\\nvalue = [152, 274]'),\n",
       " Text(103.01538461538462, 152.208, 'X[27] <= 0.311\\ngini = 0.092\\nsamples = 269\\nvalue = [13, 256]'),\n",
       " Text(51.50769230769231, 108.72, 'X[0] <= 0.242\\ngini = 0.032\\nsamples = 248\\nvalue = [4, 244]'),\n",
       " Text(25.753846153846155, 65.232, 'X[23] <= -0.167\\ngini = 0.024\\nsamples = 246\\nvalue = [3, 243]'),\n",
       " Text(12.876923076923077, 21.744, '\\n  (...)  \\n'),\n",
       " Text(38.63076923076923, 21.744, '\\n  (...)  \\n'),\n",
       " Text(77.26153846153846, 65.232, 'X[8] <= -0.616\\ngini = 0.5\\nsamples = 2\\nvalue = [1, 1]'),\n",
       " Text(64.38461538461539, 21.744, '\\n  (...)  \\n'),\n",
       " Text(90.13846153846154, 21.744, '\\n  (...)  \\n'),\n",
       " Text(154.52307692307693, 108.72, 'X[22] <= -0.155\\ngini = 0.49\\nsamples = 21\\nvalue = [9, 12]'),\n",
       " Text(128.76923076923077, 65.232, 'X[7] <= 0.187\\ngini = 0.18\\nsamples = 10\\nvalue = [1, 9]'),\n",
       " Text(115.8923076923077, 21.744, '\\n  (...)  \\n'),\n",
       " Text(141.64615384615385, 21.744, '\\n  (...)  \\n'),\n",
       " Text(180.27692307692308, 65.232, 'X[28] <= -0.376\\ngini = 0.397\\nsamples = 11\\nvalue = [8, 3]'),\n",
       " Text(167.4, 21.744, '\\n  (...)  \\n'),\n",
       " Text(193.15384615384616, 21.744, '\\n  (...)  \\n'),\n",
       " Text(270.4153846153846, 152.208, 'X[27] <= 0.358\\ngini = 0.203\\nsamples = 157\\nvalue = [139, 18]'),\n",
       " Text(244.66153846153847, 108.72, 'X[25] <= 0.496\\ngini = 0.496\\nsamples = 33\\nvalue = [18, 15]'),\n",
       " Text(231.7846153846154, 65.232, 'X[8] <= -1.048\\ngini = 0.459\\nsamples = 28\\nvalue = [18, 10]'),\n",
       " Text(218.90769230769232, 21.744, '\\n  (...)  \\n'),\n",
       " Text(244.66153846153847, 21.744, '\\n  (...)  \\n'),\n",
       " Text(257.53846153846155, 65.232, 'gini = 0.0\\nsamples = 5\\nvalue = [0, 5]'),\n",
       " Text(296.1692307692308, 108.72, 'X[12] <= -0.686\\ngini = 0.047\\nsamples = 124\\nvalue = [121, 3]'),\n",
       " Text(283.2923076923077, 65.232, 'gini = 0.0\\nsamples = 1\\nvalue = [0, 1]'),\n",
       " Text(309.04615384615386, 65.232, 'X[2] <= 0.213\\ngini = 0.032\\nsamples = 123\\nvalue = [121, 2]'),\n",
       " Text(296.1692307692308, 21.744, '\\n  (...)  \\n'),\n",
       " Text(321.9230769230769, 21.744, '\\n  (...)  \\n')]"
      ]
     },
     "execution_count": 52,
     "metadata": {},
     "output_type": "execute_result"
    },
    {
     "data": {
      "image/png": "[encoded data removed]",
      "text/plain": [
       "<Figure size 432x288 with 1 Axes>"
      ]
     },
     "metadata": {
      "needs_background": "light"
     },
     "output_type": "display_data"
    }
   ],
   "source": [
    "plot_tree(tree, max_depth=3)"
   ]
  },
  {
   "cell_type": "code",
   "execution_count": 53,
   "metadata": {},
   "outputs": [],
   "source": [
    "y_pred_1=model2.predict(X_test1)"
   ]
  },
  {
   "cell_type": "code",
   "execution_count": 54,
   "metadata": {},
   "outputs": [
    {
     "data": {
      "text/plain": [
       "0.9200101703534198"
      ]
     },
     "execution_count": 54,
     "metadata": {},
     "output_type": "execute_result"
    }
   ],
   "source": [
    "from sklearn.metrics import f1_score\n",
    "f1_score(y_test1,y_pred_1, average='macro')"
   ]
  },
  {
   "cell_type": "markdown",
   "metadata": {},
   "source": [
    "model cointain low varience and  low bais so it is good "
   ]
  },
  {
   "cell_type": "markdown",
   "metadata": {},
   "source": [
    "# DecisionTreeRegressor"
   ]
  },
  {
   "cell_type": "code",
   "execution_count": null,
   "metadata": {},
   "outputs": [],
   "source": [
    "all parameter are same as in classification ,class  weight is ot consider hear."
   ]
  },
  {
   "cell_type": "code",
   "execution_count": null,
   "metadata": {},
   "outputs": [],
   "source": [
    "DecisionTreeRegressor(criterion='mse',#The function to measure the quality of a split.(fixed)\n",
    "                                         splitter='best', #The strategy used to choose the split at each node.(fixed)\n",
    "                                         max_depth=None, #The maximum depth of the tree that expanded until all leaves contain less than (chosen)\n",
    "                                         min_samples_split=2, #The minimum number of samples required to split an internal node (fixed)\n",
    "                                         min_samples_leaf=5, #The minimum number of samples required to be at a leaf node.(fixed)\n",
    "                                         min_weight_fraction_leaf=0.0, #Samples have equal weight when sample_weight is not provided.(fixed)\n",
    "                                         max_features=None, #The number of features to consider when looking for the best split(chosen.)\n",
    "                                         random_state=None, #Controls the randomness of the estimator. \n",
    "                                         max_leaf_nodes=None, #Grow a tree with max_leaf_nodes in best-first fashion.(fixed)\n",
    "                                         min_impurity_decrease=0.0, #starting criteria for A node to split.(fiixed)\n",
    "                                         min_impurity_split=None,#Threshold for early stopping in tree growth. (fiixed)\n",
    "                                         ccp_alpha=0.0#Complexity parameter used for Minimal Cost-Complexity Pruning.(fiixed.)\n",
    "                                        )"
   ]
  },
  {
   "cell_type": "code",
   "execution_count": 56,
   "metadata": {},
   "outputs": [],
   "source": [
    "from sklearn.datasets import load_boston\n",
    "from sklearn.model_selection import train_test_split\n",
    "from sklearn.model_selection import GridSearchCV\n",
    "from sklearn.tree import DecisionTreeRegressor\n",
    "from sklearn import preprocessing\n",
    "from  sklearn.tree import plot_tree\n",
    "import pandas as pd"
   ]
  },
  {
   "cell_type": "code",
   "execution_count": 57,
   "metadata": {},
   "outputs": [],
   "source": [
    "da1= load_boston()\n",
    "X=da1.data\n",
    "y=da1.target\n",
    "scaled_X = preprocessing.scale(X)\n",
    "X_train, X_test, y_train, y_test = train_test_split(scaled_X, y)"
   ]
  },
  {
   "cell_type": "code",
   "execution_count": 58,
   "metadata": {},
   "outputs": [],
   "source": [
    "parameters5={'max_features':['auto', 'sqrt', 'log2'],#The number of features to consider when looking for the best split\n",
    "             'max_depth':[3,4,5,8], ##Complexity parameter used for Minimal Cost-Complexity Pruning.\n",
    "            }"
   ]
  },
  {
   "cell_type": "code",
   "execution_count": 59,
   "metadata": {},
   "outputs": [],
   "source": [
    "DL1=DecisionTreeRegressor(min_samples_leaf=5)"
   ]
  },
  {
   "cell_type": "code",
   "execution_count": 60,
   "metadata": {},
   "outputs": [],
   "source": [
    "clf_re_1 = GridSearchCV(DL1,#estimator funtions \n",
    "                    parameters5,#define parameters\n",
    "                    scoring='r2',#Strategy to evaluate the performance of the cross-validated model on the test set\n",
    "                    refit=True,#Refit an estimator using the best found parameters on the whole dataset.\n",
    "                    n_jobs=None,#1 CPU core used when parallelizing over classes\n",
    "                    cv=None,#None, to use the default 5-fold cross validation,\n",
    "                    verbose=0,#not to show wearning massage\n",
    "                    pre_dispatch='2*n_jobs',\n",
    "                   return_train_score=False\n",
    "                  )"
   ]
  },
  {
   "cell_type": "code",
   "execution_count": 61,
   "metadata": {},
   "outputs": [],
   "source": [
    "model4=clf_re_1.fit(X_train, y_train)"
   ]
  },
  {
   "cell_type": "code",
   "execution_count": 62,
   "metadata": {},
   "outputs": [
    {
     "data": {
      "text/plain": [
       "DecisionTreeRegressor(max_depth=8, max_features='auto', min_samples_leaf=5)"
      ]
     },
     "execution_count": 62,
     "metadata": {},
     "output_type": "execute_result"
    }
   ],
   "source": [
    "model4.best_estimator_"
   ]
  },
  {
   "cell_type": "code",
   "execution_count": 63,
   "metadata": {},
   "outputs": [
    {
     "data": {
      "text/plain": [
       "0.7804838581897828"
      ]
     },
     "execution_count": 63,
     "metadata": {},
     "output_type": "execute_result"
    }
   ],
   "source": [
    "model4.best_score_"
   ]
  },
  {
   "cell_type": "code",
   "execution_count": 67,
   "metadata": {},
   "outputs": [],
   "source": [
    "mode_4=DecisionTreeRegressor(max_depth=8, max_features='auto', min_samples_leaf=5)"
   ]
  },
  {
   "cell_type": "code",
   "execution_count": 68,
   "metadata": {},
   "outputs": [],
   "source": [
    "tree=mode_4.fit(X_train, y_train)"
   ]
  },
  {
   "cell_type": "code",
   "execution_count": 69,
   "metadata": {},
   "outputs": [
    {
     "data": {
      "text/plain": [
       "[Text(152.96896551724137, 195.696, 'X[12] <= -0.41\\nmse = 83.009\\nsamples = 379\\nvalue = 22.483'),\n",
       " Text(63.49655172413793, 152.208, 'X[5] <= 1.036\\nmse = 75.806\\nsamples = 162\\nvalue = 29.537'),\n",
       " Text(23.089655172413792, 108.72, 'X[7] <= -1.003\\nmse = 39.425\\nsamples = 121\\nvalue = 26.139'),\n",
       " Text(11.544827586206896, 65.232, 'mse = 81.0\\nsamples = 5\\nvalue = 45.5'),\n",
       " Text(34.63448275862069, 65.232, 'X[5] <= 0.367\\nmse = 20.779\\nsamples = 116\\nvalue = 25.304'),\n",
       " Text(23.089655172413792, 21.744, '\\n  (...)  \\n'),\n",
       " Text(46.179310344827584, 21.744, '\\n  (...)  \\n'),\n",
       " Text(103.90344827586206, 108.72, 'X[5] <= 1.639\\nmse = 48.517\\nsamples = 41\\nvalue = 39.566'),\n",
       " Text(80.81379310344828, 65.232, 'X[6] <= 0.351\\nmse = 21.051\\nsamples = 21\\nvalue = 34.443'),\n",
       " Text(69.26896551724138, 21.744, '\\n  (...)  \\n'),\n",
       " Text(92.35862068965517, 21.744, '\\n  (...)  \\n'),\n",
       " Text(126.99310344827586, 65.232, 'X[10] <= -1.413\\nmse = 20.863\\nsamples = 20\\nvalue = 44.945'),\n",
       " Text(115.44827586206895, 21.744, '\\n  (...)  \\n'),\n",
       " Text(138.53793103448277, 21.744, '\\n  (...)  \\n'),\n",
       " Text(242.44137931034481, 152.208, 'X[12] <= 0.416\\nmse = 23.508\\nsamples = 217\\nvalue = 17.217'),\n",
       " Text(196.26206896551724, 108.72, 'X[12] <= 0.245\\nmse = 9.276\\nsamples = 109\\nvalue = 20.203'),\n",
       " Text(173.17241379310343, 65.232, 'X[10] <= -0.28\\nmse = 8.141\\nsamples = 88\\nvalue = 20.809'),\n",
       " Text(161.62758620689655, 21.744, '\\n  (...)  \\n'),\n",
       " Text(184.71724137931034, 21.744, '\\n  (...)  \\n'),\n",
       " Text(219.35172413793103, 65.232, 'X[7] <= -0.781\\nmse = 6.037\\nsamples = 21\\nvalue = 17.662'),\n",
       " Text(207.80689655172412, 21.744, '\\n  (...)  \\n'),\n",
       " Text(230.8965517241379, 21.744, '\\n  (...)  \\n'),\n",
       " Text(288.6206896551724, 108.72, 'X[4] <= 0.884\\nmse = 19.795\\nsamples = 108\\nvalue = 14.204'),\n",
       " Text(265.5310344827586, 65.232, 'X[10] <= 0.552\\nmse = 15.749\\nsamples = 49\\nvalue = 17.01'),\n",
       " Text(253.98620689655172, 21.744, '\\n  (...)  \\n'),\n",
       " Text(277.07586206896553, 21.744, '\\n  (...)  \\n'),\n",
       " Text(311.7103448275862, 65.232, 'X[0] <= 0.728\\nmse = 11.182\\nsamples = 59\\nvalue = 11.873'),\n",
       " Text(300.1655172413793, 21.744, '\\n  (...)  \\n'),\n",
       " Text(323.2551724137931, 21.744, '\\n  (...)  \\n')]"
      ]
     },
     "execution_count": 69,
     "metadata": {},
     "output_type": "execute_result"
    },
    {
     "data": {
      "image/png": "[encoded data removed]",
      "text/plain": [
       "<Figure size 432x288 with 1 Axes>"
      ]
     },
     "metadata": {
      "needs_background": "light"
     },
     "output_type": "display_data"
    }
   ],
   "source": [
    "plot_tree(tree, max_depth=3)"
   ]
  },
  {
   "cell_type": "code",
   "execution_count": 70,
   "metadata": {},
   "outputs": [
    {
     "data": {
      "text/plain": [
       "array([26.6125    , 17.61666667, 17.47142857, 11.36      , 31.66      ,\n",
       "       18.88      , 15.54285714, 21.58      , 21.8       , 14.07777778,\n",
       "       17.47142857, 14.07777778, 36.15      , 40.06      , 14.07777778,\n",
       "       11.33333333, 10.3125    , 20.99      , 30.68333333, 13.55      ,\n",
       "       10.3125    , 15.14      , 20.99      , 50.        , 19.58333333,\n",
       "       21.74      , 15.14      , 10.3125    , 17.7375    , 24.04      ,\n",
       "       19.26666667, 35.94      , 21.8       , 14.07777778, 43.28      ,\n",
       "       10.3125    , 26.6125    , 28.575     , 19.97142857, 40.06      ,\n",
       "       17.47142857, 50.        , 19.55      , 23.4       , 26.34      ,\n",
       "       21.76666667, 28.575     , 15.54285714, 11.36      , 46.44      ,\n",
       "       14.07777778, 24.04      , 23.4       , 33.5       , 31.66      ,\n",
       "       18.88      , 50.        , 19.55      , 22.45      , 46.44      ,\n",
       "       17.7375    , 19.58333333, 18.06      , 21.6375    , 21.74      ,\n",
       "       46.44      , 18.06      , 10.3125    , 36.15      , 33.5       ,\n",
       "       19.97142857, 26.6125    ,  7.88      , 22.45      , 18.06      ,\n",
       "       22.84      , 26.34      , 15.54285714, 19.26666667, 26.34      ,\n",
       "       17.7375    , 18.88      , 10.3125    , 33.5       , 10.3125    ,\n",
       "       22.2       , 21.58      , 33.5       , 22.45      , 43.28      ,\n",
       "       20.99      , 21.58      , 38.4       , 14.07777778, 19.55      ,\n",
       "       17.26      , 25.16666667, 35.94      , 11.33333333, 23.4       ,\n",
       "       12.85      , 22.2       , 18.88      , 28.575     , 15.14      ,\n",
       "       25.98571429, 20.275     , 23.4       , 26.6125    , 17.925     ,\n",
       "       23.89230769, 11.33333333, 17.06666667, 17.925     , 15.14      ,\n",
       "       19.26666667, 26.34      , 21.8       , 25.16666667, 15.14      ,\n",
       "       11.36      , 19.58333333, 21.58      , 13.55      , 12.85      ,\n",
       "       24.04      , 13.55      ])"
      ]
     },
     "execution_count": 70,
     "metadata": {},
     "output_type": "execute_result"
    }
   ],
   "source": [
    "mode_4.predict(X_test)"
   ]
  },
  {
   "cell_type": "code",
   "execution_count": 71,
   "metadata": {},
   "outputs": [
    {
     "data": {
      "text/plain": [
       "0.8190557540776626"
      ]
     },
     "execution_count": 71,
     "metadata": {},
     "output_type": "execute_result"
    }
   ],
   "source": [
    "mode_4.score( X_test, y_test) #return  r2"
   ]
  },
  {
   "cell_type": "markdown",
   "metadata": {},
   "source": [
    "model cointain low varience and  low bais so it is good "
   ]
  }
 ],
 "metadata": {
  "kernelspec": {
   "display_name": "Python 3",
   "language": "python",
   "name": "python3"
  },
  "language_info": {
   "codemirror_mode": {
    "name": "ipython",
    "version": 3
   },
   "file_extension": ".py",
   "mimetype": "text/x-python",
   "name": "python",
   "nbconvert_exporter": "python",
   "pygments_lexer": "ipython3",
   "version": "3.8.5"
  }
 },
 "nbformat": 4,
 "nbformat_minor": 4
}
