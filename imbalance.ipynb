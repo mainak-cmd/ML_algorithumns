{
 "cells": [
  {
   "cell_type": "code",
   "execution_count": 1,
   "metadata": {},
   "outputs": [
    {
     "name": "stdout",
     "output_type": "stream",
     "text": [
      "Collecting imbalanced-learnNote: you may need to restart the kernel to use updated packages.\n",
      "\n",
      "  Using cached imbalanced_learn-0.8.0-py3-none-any.whl (206 kB)"
     ]
    },
    {
     "name": "stderr",
     "output_type": "stream",
     "text": [
      "WARNING: You are using pip version 21.0.1; however, version 21.1.2 is available.\n",
      "You should consider upgrading via the 'C:\\Users\\USER\\AppData\\Local\\Programs\\Python\\Python38\\python.exe -m pip install --upgrade pip' command.\n"
     ]
    },
    {
     "name": "stdout",
     "output_type": "stream",
     "text": [
      "\n",
      "Collecting scikit-learn>=0.24\n",
      "  Using cached scikit_learn-0.24.2-cp38-cp38-win_amd64.whl (6.9 MB)\n",
      "Requirement already satisfied: numpy>=1.13.3 in c:\\users\\user\\appdata\\local\\programs\\python\\python38\\lib\\site-packages (from imbalanced-learn) (1.18.2)\n",
      "Requirement already satisfied: joblib>=0.11 in c:\\users\\user\\appdata\\local\\programs\\python\\python38\\lib\\site-packages (from imbalanced-learn) (0.16.0)\n",
      "Requirement already satisfied: scipy>=0.19.1 in c:\\users\\user\\appdata\\local\\programs\\python\\python38\\lib\\site-packages (from imbalanced-learn) (1.5.2)\n",
      "Requirement already satisfied: threadpoolctl>=2.0.0 in c:\\users\\user\\appdata\\local\\programs\\python\\python38\\lib\\site-packages (from scikit-learn>=0.24->imbalanced-learn) (2.1.0)\n",
      "Installing collected packages: scikit-learn, imbalanced-learn\n",
      "  Attempting uninstall: scikit-learn\n",
      "    Found existing installation: scikit-learn 0.23.2\n",
      "    Uninstalling scikit-learn-0.23.2:\n",
      "      Successfully uninstalled scikit-learn-0.23.2\n",
      "Successfully installed imbalanced-learn-0.8.0 scikit-learn-0.24.2\n"
     ]
    }
   ],
   "source": [
    "pip install -U imbalanced-learn"
   ]
  },
  {
   "cell_type": "code",
   "execution_count": null,
   "metadata": {},
   "outputs": [],
   "source": [
    "The balancing issue corresponds to the difference of the number of samples in the different classes. "
   ]
  },
  {
   "cell_type": "code",
   "execution_count": null,
   "metadata": {},
   "outputs": [],
   "source": [
    "2. Over-sampling\n",
    "3. Under-sampling\n",
    "4.Combination of over- and under-sampling\n"
   ]
  },
  {
   "cell_type": "code",
   "execution_count": null,
   "metadata": {},
   "outputs": [],
   "source": [
    "Over-sampling"
   ]
  },
  {
   "cell_type": "code",
   "execution_count": null,
   "metadata": {},
   "outputs": [],
   "source": [
    "Random oversampling involves randomly duplicating examples in the minority class, whereas random"
   ]
  },
  {
   "cell_type": "code",
   "execution_count": null,
   "metadata": {},
   "outputs": [],
   "source": [
    "Under-sampling"
   ]
  },
  {
   "cell_type": "code",
   "execution_count": null,
   "metadata": {},
   "outputs": [],
   "source": [
    "undersampling involves randomly deleting examples from the majority class."
   ]
  },
  {
   "cell_type": "markdown",
   "metadata": {},
   "source": [
    "# RandomOverSampler"
   ]
  },
  {
   "cell_type": "markdown",
   "metadata": {},
   "source": [
    "# Parameters"
   ]
  },
  {
   "cell_type": "code",
   "execution_count": null,
   "metadata": {},
   "outputs": [],
   "source": [
    "sampling_strategyfloat, str, dict or callable, default=’auto’"
   ]
  },
  {
   "cell_type": "code",
   "execution_count": null,
   "metadata": {},
   "outputs": [],
   "source": [
    "One way to fight this issue is to generate new samples in the classes which are under-represented.\n",
    "The most naive strategy is to generate new samples by randomly sampling with replacement the current available samples. "
   ]
  },
  {
   "cell_type": "code",
   "execution_count": null,
   "metadata": {},
   "outputs": [],
   "source": [
    "float, it corresponds to the desired ratio of the number of samples in the minority class over the number of samples in \n",
    "the majority class after resampling. \n",
    "for bianary class use float as it is only available for binary classification.\n",
    "\n",
    "When str, specify the class targeted by the resampling. \n",
    "The number of samples in the different classes will be equalized. \n",
    "\n",
    "Possible choices are:\n",
    "\n",
    "'minority': resample only the minority class;\n",
    "\n",
    "'not minority': resample all classes but the minority class;\n",
    "\n",
    "'not majority': resample all classes but the majority class;\n",
    "\n",
    "'all': resample all classes;\n",
    "\n",
    "'auto': equivalent to 'not majority'\n",
    "    \n",
    "\n",
    "When dict, the keys correspond to the targeted classes. \n",
    "The values correspond to the desired number of samples for each targeted class.  \n",
    "    "
   ]
  },
  {
   "cell_type": "code",
   "execution_count": null,
   "metadata": {},
   "outputs": [],
   "source": [
    "shrinkagefloat or dict, default=None"
   ]
  },
  {
   "cell_type": "code",
   "execution_count": null,
   "metadata": {},
   "outputs": [],
   "source": [
    "Parameter controlling the shrinkage applied to the covariance matrix.\n",
    "The value needs of the shrinkage parameter needs to be higher or equal to 0."
   ]
  },
  {
   "cell_type": "code",
   "execution_count": null,
   "metadata": {},
   "outputs": [],
   "source": [
    "if None, a normal bootstrap will be generated without perturbation. It is equivalent to shrinkage=0 as well;\n",
    "\n",
    "if a float is given, the shrinkage factor will be used for all classes to generate the smoothed bootstrap;\n",
    "\n",
    "if a dict is given, the shrinkage factor will specific for each class. The key correspond to the targeted class"
   ]
  },
  {
   "cell_type": "code",
   "execution_count": null,
   "metadata": {},
   "outputs": [],
   "source": [
    "Attributes\n",
    "shrinkage_\n",
    "The per-class shrinkage factor used to generate the smoothed bootstrap sample"
   ]
  },
  {
   "cell_type": "code",
   "execution_count": null,
   "metadata": {},
   "outputs": [],
   "source": [
    "Methods"
   ]
  },
  {
   "cell_type": "code",
   "execution_count": null,
   "metadata": {},
   "outputs": [],
   "source": [
    "fit(X, y),fit_resample(X, y)"
   ]
  },
  {
   "cell_type": "code",
   "execution_count": null,
   "metadata": {},
   "outputs": [],
   "source": [
    "RandomOverSampler(sampling_strategy='auto', #Sampling information to resample the data set.\n",
    "                  random_state=None, #Control the randomization of the algorithm.\n",
    "                  shrinkage=None #normal bootstrap will be generated without perturbation \n",
    "                 )"
   ]
  },
  {
   "cell_type": "markdown",
   "metadata": {},
   "source": [
    "# SMOTE"
   ]
  },
  {
   "cell_type": "code",
   "execution_count": null,
   "metadata": {},
   "outputs": [],
   "source": [
    "Class to perform over-sampling using SMOTE.\n",
    "This object is an implementation of SMOTE - Synthetic Minority Over-sampling Technique \n",
    "can generate noisy samples by interpolating new points between marginal outliers and inliers"
   ]
  },
  {
   "cell_type": "code",
   "execution_count": null,
   "metadata": {},
   "outputs": [],
   "source": [
    "SMOTE(sampling_strategy='auto', #Sampling information  'not majority'.\n",
    "      random_state=None, #Control the randomization of the algorithm.\n",
    "      k_neighbors=5, # number of nearest neighbours to used to construct synthetic samples.\n",
    "      n_jobs=None)"
   ]
  },
  {
   "cell_type": "markdown",
   "metadata": {},
   "source": [
    "# EXAMPLE"
   ]
  },
  {
   "cell_type": "code",
   "execution_count": 4,
   "metadata": {},
   "outputs": [],
   "source": [
    "import pandas as pd\n",
    "df=pd.read_csv('glass_data.csv')"
   ]
  },
  {
   "cell_type": "code",
   "execution_count": 5,
   "metadata": {},
   "outputs": [
    {
     "data": {
      "text/html": [
       "<div>\n",
       "<style scoped>\n",
       "    .dataframe tbody tr th:only-of-type {\n",
       "        vertical-align: middle;\n",
       "    }\n",
       "\n",
       "    .dataframe tbody tr th {\n",
       "        vertical-align: top;\n",
       "    }\n",
       "\n",
       "    .dataframe thead th {\n",
       "        text-align: right;\n",
       "    }\n",
       "</style>\n",
       "<table border=\"1\" class=\"dataframe\">\n",
       "  <thead>\n",
       "    <tr style=\"text-align: right;\">\n",
       "      <th></th>\n",
       "      <th>column_a</th>\n",
       "      <th>column_b</th>\n",
       "      <th>column_c</th>\n",
       "      <th>column_d</th>\n",
       "      <th>column_e</th>\n",
       "      <th>column_f</th>\n",
       "      <th>column_g</th>\n",
       "      <th>column_h</th>\n",
       "      <th>column_i</th>\n",
       "      <th>column_j</th>\n",
       "      <th>column_k</th>\n",
       "    </tr>\n",
       "  </thead>\n",
       "  <tbody>\n",
       "    <tr>\n",
       "      <th>0</th>\n",
       "      <td>1</td>\n",
       "      <td>1.52101</td>\n",
       "      <td>13.64</td>\n",
       "      <td>4.49</td>\n",
       "      <td>1.10</td>\n",
       "      <td>71.78</td>\n",
       "      <td>0.06</td>\n",
       "      <td>8.75</td>\n",
       "      <td>0.00</td>\n",
       "      <td>0.0</td>\n",
       "      <td>1</td>\n",
       "    </tr>\n",
       "    <tr>\n",
       "      <th>1</th>\n",
       "      <td>2</td>\n",
       "      <td>1.51761</td>\n",
       "      <td>13.89</td>\n",
       "      <td>3.60</td>\n",
       "      <td>1.36</td>\n",
       "      <td>72.73</td>\n",
       "      <td>0.48</td>\n",
       "      <td>7.83</td>\n",
       "      <td>0.00</td>\n",
       "      <td>0.0</td>\n",
       "      <td>1</td>\n",
       "    </tr>\n",
       "    <tr>\n",
       "      <th>2</th>\n",
       "      <td>3</td>\n",
       "      <td>1.51618</td>\n",
       "      <td>13.53</td>\n",
       "      <td>3.55</td>\n",
       "      <td>1.54</td>\n",
       "      <td>72.99</td>\n",
       "      <td>0.39</td>\n",
       "      <td>7.78</td>\n",
       "      <td>0.00</td>\n",
       "      <td>0.0</td>\n",
       "      <td>1</td>\n",
       "    </tr>\n",
       "    <tr>\n",
       "      <th>3</th>\n",
       "      <td>4</td>\n",
       "      <td>1.51766</td>\n",
       "      <td>13.21</td>\n",
       "      <td>3.69</td>\n",
       "      <td>1.29</td>\n",
       "      <td>72.61</td>\n",
       "      <td>0.57</td>\n",
       "      <td>8.22</td>\n",
       "      <td>0.00</td>\n",
       "      <td>0.0</td>\n",
       "      <td>1</td>\n",
       "    </tr>\n",
       "    <tr>\n",
       "      <th>4</th>\n",
       "      <td>5</td>\n",
       "      <td>1.51742</td>\n",
       "      <td>13.27</td>\n",
       "      <td>3.62</td>\n",
       "      <td>1.24</td>\n",
       "      <td>73.08</td>\n",
       "      <td>0.55</td>\n",
       "      <td>8.07</td>\n",
       "      <td>0.00</td>\n",
       "      <td>0.0</td>\n",
       "      <td>1</td>\n",
       "    </tr>\n",
       "    <tr>\n",
       "      <th>...</th>\n",
       "      <td>...</td>\n",
       "      <td>...</td>\n",
       "      <td>...</td>\n",
       "      <td>...</td>\n",
       "      <td>...</td>\n",
       "      <td>...</td>\n",
       "      <td>...</td>\n",
       "      <td>...</td>\n",
       "      <td>...</td>\n",
       "      <td>...</td>\n",
       "      <td>...</td>\n",
       "    </tr>\n",
       "    <tr>\n",
       "      <th>209</th>\n",
       "      <td>210</td>\n",
       "      <td>1.51623</td>\n",
       "      <td>14.14</td>\n",
       "      <td>0.00</td>\n",
       "      <td>2.88</td>\n",
       "      <td>72.61</td>\n",
       "      <td>0.08</td>\n",
       "      <td>9.18</td>\n",
       "      <td>1.06</td>\n",
       "      <td>0.0</td>\n",
       "      <td>7</td>\n",
       "    </tr>\n",
       "    <tr>\n",
       "      <th>210</th>\n",
       "      <td>211</td>\n",
       "      <td>1.51685</td>\n",
       "      <td>14.92</td>\n",
       "      <td>0.00</td>\n",
       "      <td>1.99</td>\n",
       "      <td>73.06</td>\n",
       "      <td>0.00</td>\n",
       "      <td>8.40</td>\n",
       "      <td>1.59</td>\n",
       "      <td>0.0</td>\n",
       "      <td>7</td>\n",
       "    </tr>\n",
       "    <tr>\n",
       "      <th>211</th>\n",
       "      <td>212</td>\n",
       "      <td>1.52065</td>\n",
       "      <td>14.36</td>\n",
       "      <td>0.00</td>\n",
       "      <td>2.02</td>\n",
       "      <td>73.42</td>\n",
       "      <td>0.00</td>\n",
       "      <td>8.44</td>\n",
       "      <td>1.64</td>\n",
       "      <td>0.0</td>\n",
       "      <td>7</td>\n",
       "    </tr>\n",
       "    <tr>\n",
       "      <th>212</th>\n",
       "      <td>213</td>\n",
       "      <td>1.51651</td>\n",
       "      <td>14.38</td>\n",
       "      <td>0.00</td>\n",
       "      <td>1.94</td>\n",
       "      <td>73.61</td>\n",
       "      <td>0.00</td>\n",
       "      <td>8.48</td>\n",
       "      <td>1.57</td>\n",
       "      <td>0.0</td>\n",
       "      <td>7</td>\n",
       "    </tr>\n",
       "    <tr>\n",
       "      <th>213</th>\n",
       "      <td>214</td>\n",
       "      <td>1.51711</td>\n",
       "      <td>14.23</td>\n",
       "      <td>0.00</td>\n",
       "      <td>2.08</td>\n",
       "      <td>73.36</td>\n",
       "      <td>0.00</td>\n",
       "      <td>8.62</td>\n",
       "      <td>1.67</td>\n",
       "      <td>0.0</td>\n",
       "      <td>7</td>\n",
       "    </tr>\n",
       "  </tbody>\n",
       "</table>\n",
       "<p>214 rows × 11 columns</p>\n",
       "</div>"
      ],
      "text/plain": [
       "     column_a  column_b  column_c  column_d  column_e  column_f  column_g  \\\n",
       "0           1   1.52101     13.64      4.49      1.10     71.78      0.06   \n",
       "1           2   1.51761     13.89      3.60      1.36     72.73      0.48   \n",
       "2           3   1.51618     13.53      3.55      1.54     72.99      0.39   \n",
       "3           4   1.51766     13.21      3.69      1.29     72.61      0.57   \n",
       "4           5   1.51742     13.27      3.62      1.24     73.08      0.55   \n",
       "..        ...       ...       ...       ...       ...       ...       ...   \n",
       "209       210   1.51623     14.14      0.00      2.88     72.61      0.08   \n",
       "210       211   1.51685     14.92      0.00      1.99     73.06      0.00   \n",
       "211       212   1.52065     14.36      0.00      2.02     73.42      0.00   \n",
       "212       213   1.51651     14.38      0.00      1.94     73.61      0.00   \n",
       "213       214   1.51711     14.23      0.00      2.08     73.36      0.00   \n",
       "\n",
       "     column_h  column_i  column_j  column_k  \n",
       "0        8.75      0.00       0.0         1  \n",
       "1        7.83      0.00       0.0         1  \n",
       "2        7.78      0.00       0.0         1  \n",
       "3        8.22      0.00       0.0         1  \n",
       "4        8.07      0.00       0.0         1  \n",
       "..        ...       ...       ...       ...  \n",
       "209      9.18      1.06       0.0         7  \n",
       "210      8.40      1.59       0.0         7  \n",
       "211      8.44      1.64       0.0         7  \n",
       "212      8.48      1.57       0.0         7  \n",
       "213      8.62      1.67       0.0         7  \n",
       "\n",
       "[214 rows x 11 columns]"
      ]
     },
     "execution_count": 5,
     "metadata": {},
     "output_type": "execute_result"
    }
   ],
   "source": [
    "df"
   ]
  },
  {
   "cell_type": "code",
   "execution_count": 7,
   "metadata": {},
   "outputs": [],
   "source": [
    "y=df[\"column_k\"]\n",
    "X=df[[\"column_b\",\"column_c\",\"column_d\",\"column_e\",\"column_f\",\"column_g\",\"column_h\",\"column_i\",\"column_j\"]]"
   ]
  },
  {
   "cell_type": "code",
   "execution_count": null,
   "metadata": {},
   "outputs": [],
   "source": [
    "#frequency count of the terget data"
   ]
  },
  {
   "cell_type": "code",
   "execution_count": 8,
   "metadata": {},
   "outputs": [
    {
     "data": {
      "text/plain": [
       "2    76\n",
       "1    70\n",
       "7    29\n",
       "3    17\n",
       "5    13\n",
       "6     9\n",
       "Name: column_k, dtype: int64"
      ]
     },
     "execution_count": 8,
     "metadata": {},
     "output_type": "execute_result"
    }
   ],
   "source": [
    "df[\"column_k\"].value_counts()"
   ]
  },
  {
   "cell_type": "code",
   "execution_count": 36,
   "metadata": {},
   "outputs": [],
   "source": [
    "from imblearn.over_sampling import RandomOverSampler,SMOTE \n",
    "from sklearn.model_selection import train_test_split\n",
    "from sklearn.model_selection import GridSearchCV\n",
    "from sklearn.tree import DecisionTreeClassifier\n",
    "from sklearn import preprocessing\n",
    "from sklearn.metrics import accuracy_score"
   ]
  },
  {
   "cell_type": "code",
   "execution_count": 37,
   "metadata": {},
   "outputs": [],
   "source": [
    "ros=RandomOverSampler(sampling_strategy='all', #Sampling information to resample the data set,resample all classes;\n",
    "                  random_state=None, #Control the randomization of the algorithm.\n",
    "                  shrinkage=None #normal bootstrap will be generated without perturbation \n",
    "                 )\n"
   ]
  },
  {
   "cell_type": "code",
   "execution_count": 57,
   "metadata": {},
   "outputs": [],
   "source": [
    "som=SMOTE(sampling_strategy='minority', #Sampling information  'not majority'.\n",
    "      random_state=None, #Control the randomization of the algorithm.\n",
    "      k_neighbors=5, # number of nearest neighbours to used to construct synthetic samples.\n",
    "      n_jobs=None)"
   ]
  },
  {
   "cell_type": "code",
   "execution_count": 58,
   "metadata": {},
   "outputs": [],
   "source": [
    "X_res, y_res = ros.fit_resample(X, y)"
   ]
  },
  {
   "cell_type": "code",
   "execution_count": 59,
   "metadata": {},
   "outputs": [],
   "source": [
    "X_res_1, y_res_1 = som.fit_resample(X, y)"
   ]
  },
  {
   "cell_type": "code",
   "execution_count": 60,
   "metadata": {},
   "outputs": [
    {
     "name": "stdout",
     "output_type": "stream",
     "text": [
      "7    76\n",
      "6    76\n",
      "5    76\n",
      "3    76\n",
      "2    76\n",
      "1    76\n",
      "Name: column_k, dtype: int64 and 6    76\n",
      "2    76\n",
      "1    70\n",
      "7    29\n",
      "3    17\n",
      "5    13\n",
      "Name: column_k, dtype: int64\n"
     ]
    }
   ],
   "source": [
    "print(y_res.value_counts(),\"and\",y_res_1.value_counts())"
   ]
  },
  {
   "cell_type": "code",
   "execution_count": 61,
   "metadata": {},
   "outputs": [
    {
     "data": {
      "text/plain": [
       "(281,)"
      ]
     },
     "execution_count": 61,
     "metadata": {},
     "output_type": "execute_result"
    }
   ],
   "source": [
    "y_res_1.shape"
   ]
  },
  {
   "cell_type": "code",
   "execution_count": 62,
   "metadata": {},
   "outputs": [
    {
     "data": {
      "text/plain": [
       "(456,)"
      ]
     },
     "execution_count": 62,
     "metadata": {},
     "output_type": "execute_result"
    }
   ],
   "source": [
    "y_res.shape"
   ]
  },
  {
   "cell_type": "code",
   "execution_count": 63,
   "metadata": {},
   "outputs": [
    {
     "data": {
      "text/plain": [
       "(456, 9)"
      ]
     },
     "execution_count": 63,
     "metadata": {},
     "output_type": "execute_result"
    }
   ],
   "source": [
    "X_res.shape"
   ]
  },
  {
   "cell_type": "code",
   "execution_count": 26,
   "metadata": {},
   "outputs": [],
   "source": [
    "scaled_X_1 = preprocessing.scale(X_res)\n",
    "X_train1, X_test1, y_train1, y_test1 = train_test_split(scaled_X_1,y_res)"
   ]
  },
  {
   "cell_type": "code",
   "execution_count": 27,
   "metadata": {},
   "outputs": [],
   "source": [
    "DL=DecisionTreeClassifier( criterion='gini', #The function to measure the quality of a split.(fixed)\n",
    "                       splitter='best',#The strategy used to choose the split at each node.(fixed)\n",
    "                       max_depth=None, #The maximum depth of the tree that expanded until all leaves contain less than (chosen)                                              min_samples_split samples.(fixed )\n",
    "                       min_samples_split=2,#The minimum number of samples required to split an internal node (fixed)\n",
    "                       min_samples_leaf=1, #The minimum number of samples required to be at a leaf node.(fixed)\n",
    "                       min_weight_fraction_leaf=0.0,#Samples have equal weight when sample_weight is not provided.(fixed)\n",
    "                       max_features=None, #The number of features to consider when looking for the best split(chosen.)\n",
    "                       random_state=None, #Controls the randomness of the estimator. \n",
    "                       max_leaf_nodes=None, #Grow a tree with max_leaf_nodes in best-first fashion.(fixed)\n",
    "                       min_impurity_decrease=0.0, #starting criteria for A node to split.(fiixed)\n",
    "                       min_impurity_split=None, #Threshold for early stopping in tree growth. (fiixed)\n",
    "                       class_weight=None, #Weights associated with classes \n",
    "                       ccp_alpha=0.0#Complexity parameter used for Minimal Cost-Complexity Pruning.(fiixed.)\n",
    "                      )"
   ]
  },
  {
   "cell_type": "code",
   "execution_count": 28,
   "metadata": {},
   "outputs": [],
   "source": [
    "parameters4={'max_features':['auto', 'sqrt', 'log2'],#The number of features to consider when looking for the best split\n",
    "             'max_depth':[3,4,5,8], ##Complexity parameter used for Minimal Cost-Complexity Pruning.\n",
    "             'ccp_alpha':[0,0.01,0.03,0.1]##Complexity parameter used for Minimal Cost-Complexity Pruning.\n",
    "            }"
   ]
  },
  {
   "cell_type": "code",
   "execution_count": 29,
   "metadata": {},
   "outputs": [],
   "source": [
    "clf_re = GridSearchCV(DL,#estimator funtions \n",
    "                    parameters4,#define parameters\n",
    "                    scoring='accuracy',#Strategy to evaluate the performance of the cross-validated model on the test set\n",
    "                    refit=True,#Refit an estimator using the best found parameters on the whole dataset.\n",
    "                    n_jobs=None,#1 CPU core used when parallelizing over classes\n",
    "                    cv=None,#None, to use the default 5-fold cross validation,\n",
    "                    verbose=0,#not to show wearning massage\n",
    "                    pre_dispatch='2*n_jobs',\n",
    "                   return_train_score=False\n",
    "                  )"
   ]
  },
  {
   "cell_type": "code",
   "execution_count": 30,
   "metadata": {},
   "outputs": [],
   "source": [
    "model2=clf_re.fit(X_train1, y_train1)"
   ]
  },
  {
   "cell_type": "code",
   "execution_count": 31,
   "metadata": {},
   "outputs": [
    {
     "data": {
      "text/plain": [
       "DecisionTreeClassifier(ccp_alpha=0, max_depth=8, max_features='auto')"
      ]
     },
     "execution_count": 31,
     "metadata": {},
     "output_type": "execute_result"
    }
   ],
   "source": [
    "model2.best_estimator_"
   ]
  },
  {
   "cell_type": "code",
   "execution_count": 35,
   "metadata": {},
   "outputs": [
    {
     "data": {
      "text/plain": [
       "0.86845694799659"
      ]
     },
     "execution_count": 35,
     "metadata": {},
     "output_type": "execute_result"
    }
   ],
   "source": [
    "model2.best_score_ ##return accuracy"
   ]
  },
  {
   "cell_type": "code",
   "execution_count": 32,
   "metadata": {},
   "outputs": [],
   "source": [
    "model=DecisionTreeClassifier(ccp_alpha=0, max_depth=8, max_features='auto')"
   ]
  },
  {
   "cell_type": "code",
   "execution_count": 33,
   "metadata": {},
   "outputs": [],
   "source": [
    "tree=model.fit(X_train1, y_train1)"
   ]
  },
  {
   "cell_type": "code",
   "execution_count": 34,
   "metadata": {},
   "outputs": [
    {
     "data": {
      "text/plain": [
       "0.9035087719298246"
      ]
     },
     "execution_count": 34,
     "metadata": {},
     "output_type": "execute_result"
    }
   ],
   "source": [
    "model2.score( X_test1, y_test1) #return accuracy"
   ]
  },
  {
   "cell_type": "markdown",
   "metadata": {},
   "source": [
    "# Under-sampling"
   ]
  },
  {
   "cell_type": "markdown",
   "metadata": {},
   "source": [
    "# Prototype generation"
   ]
  },
  {
   "cell_type": "code",
   "execution_count": null,
   "metadata": {},
   "outputs": [],
   "source": [
    "prototype generation technique will reduce the number of samples in the targeted classes but\n",
    "the remaining samples are generated \n",
    "\n",
    "and not selected from the original set."
   ]
  },
  {
   "cell_type": "code",
   "execution_count": null,
   "metadata": {},
   "outputs": [],
   "source": [
    "voting"
   ]
  },
  {
   "cell_type": "code",
   "execution_count": null,
   "metadata": {},
   "outputs": [],
   "source": [
    "voting{“hard”, “soft”, “auto”}, default=’auto’\n",
    "Voting strategy to generate the new samples:\n",
    "\n",
    "If 'hard', the nearest-neighbors of the centroids found using the clustering algorithm will be used.\n",
    "\n",
    "If 'soft', the centroids found by the clustering algorithm will be used.\n",
    "\n",
    "If 'auto', if the input is sparse, it will default on 'hard' otherwise, 'soft' will be used."
   ]
  },
  {
   "cell_type": "code",
   "execution_count": null,
   "metadata": {},
   "outputs": [],
   "source": [
    "ClusterCentroids( sampling_strategy='auto', #Sampling information to sample the data set.\n",
    "                 random_state=None,#Control the randomization of the algorithm.\n",
    "                 estimator=None, #Pass a KMeans estimator. By default, it will be a default KMeans estimator.\n",
    "                 voting='auto',#Voting strategy to generate the new samples:\n",
    "                 n_jobs='deprecated')"
   ]
  },
  {
   "cell_type": "code",
   "execution_count": null,
   "metadata": {},
   "outputs": [],
   "source": [
    "Methods"
   ]
  },
  {
   "cell_type": "code",
   "execution_count": null,
   "metadata": {},
   "outputs": [],
   "source": [
    "fit(X, y)\n",
    "\n",
    "Check inputs and statistics of the sampler.\n",
    "\n",
    "fit_resample(X, y)\n",
    "\n",
    "Resample the dataset."
   ]
  },
  {
   "cell_type": "markdown",
   "metadata": {},
   "source": [
    "# Combination of over- and under-sampling"
   ]
  },
  {
   "cell_type": "code",
   "execution_count": null,
   "metadata": {},
   "outputs": [],
   "source": [
    "cleaning the space resulting from over-sampling  Tomek’s link and edited nearest-neighbours \n",
    "are the two cleaning methods that have been added to the pipeline after applying SMOTE over-sampling ."
   ]
  },
  {
   "cell_type": "code",
   "execution_count": null,
   "metadata": {},
   "outputs": [],
   "source": [
    "smote\n",
    "Class to perform over-sampling using SMOTE.\n",
    "This object is an implementation of SMOTE - Synthetic Minority Over-sampling Technique \n",
    "can generate noisy samples by interpolating new points between marginal outliers and inliers\n",
    "\n"
   ]
  },
  {
   "cell_type": "code",
   "execution_count": null,
   "metadata": {},
   "outputs": [],
   "source": [
    "som=SMOTE(sampling_strategy='minority', #Sampling information  'not majority'.\n",
    "      random_state=None, #Control the randomization of the algorithm.\n",
    "      k_neighbors=5, # number of nearest neighbours to used to construct synthetic samples.\n",
    "      n_jobs=None)"
   ]
  },
  {
   "cell_type": "code",
   "execution_count": null,
   "metadata": {},
   "outputs": [],
   "source": [
    "tomek\n",
    "Under-sampling by removing Tomek’s links.TomekLinks detects the so-called Tomek’s links \n",
    "a Tomek’s link exist if the two samples are the nearest neighbors of each other.\n",
    "The parameter sampling_strategy control which sample of the link will be removed\n",
    "    "
   ]
  },
  {
   "cell_type": "code",
   "execution_count": null,
   "metadata": {},
   "outputs": [],
   "source": [
    "TomekLinks(sampling_strategy='auto',#Sampling information equivalent to 'not majority'. \n",
    "           n_jobs=None)"
   ]
  },
  {
   "cell_type": "code",
   "execution_count": null,
   "metadata": {},
   "outputs": [],
   "source": [
    "SMOTETomek(sampling_strategy='auto', #Sampling information equivalent to 'not majority'.\n",
    "           random_state=None, #Control the randomization of the algorithm.\n",
    "           smote=None, #The SMOTE object to use and SMOTE object with default parameters will be given.\n",
    "           tomek=None, #The TomekLinks object to use\n",
    "           n_jobs=None)"
   ]
  },
  {
   "cell_type": "markdown",
   "metadata": {},
   "source": [
    "# EXAMPLE"
   ]
  },
  {
   "cell_type": "code",
   "execution_count": 64,
   "metadata": {},
   "outputs": [],
   "source": [
    "import pandas as pd\n",
    "df=pd.read_csv('glass_data.csv')"
   ]
  },
  {
   "cell_type": "code",
   "execution_count": 65,
   "metadata": {},
   "outputs": [],
   "source": [
    "y=df[\"column_k\"]\n",
    "X=df[[\"column_b\",\"column_c\",\"column_d\",\"column_e\",\"column_f\",\"column_g\",\"column_h\",\"column_i\",\"column_j\"]]"
   ]
  },
  {
   "cell_type": "code",
   "execution_count": 66,
   "metadata": {},
   "outputs": [
    {
     "data": {
      "text/plain": [
       "2    76\n",
       "1    70\n",
       "7    29\n",
       "3    17\n",
       "5    13\n",
       "6     9\n",
       "Name: column_k, dtype: int64"
      ]
     },
     "execution_count": 66,
     "metadata": {},
     "output_type": "execute_result"
    }
   ],
   "source": [
    "df[\"column_k\"].value_counts()"
   ]
  },
  {
   "cell_type": "code",
   "execution_count": null,
   "metadata": {},
   "outputs": [],
   "source": [
    "The number of samples in the different classes will be equalized------OVERSAMPLEING\n",
    "control which sample of the link will be removed ---------------------UNDERSAMPLE\n",
    "\n",
    "Possible choices are:\n",
    "\n",
    "'minority': resample only the minority class;\n",
    "\n",
    "'not minority': resample all classes WITH OUT  minority class;\n",
    "\n",
    "\n",
    "'not majority': resample all classes WITH OUT majority class;\n",
    "    \n",
    "'all'\n",
    "SMOTE: resample all classes;\n",
    "Tomek’s link :Both samples from the majority and minority class can be removed\n",
    "\n",
    "'auto'\n",
    "SMOTE : equivalent to 'not majority'\n",
    "Tomek’s link :will remove the sample from the majority class"
   ]
  },
  {
   "cell_type": "code",
   "execution_count": 109,
   "metadata": {},
   "outputs": [],
   "source": [
    "from imblearn.under_sampling import TomekLinks \n",
    "from imblearn.over_sampling import SMOTE \n",
    "from imblearn.combine import SMOTETomek"
   ]
  },
  {
   "cell_type": "code",
   "execution_count": null,
   "metadata": {},
   "outputs": [],
   "source": [
    "TYPE 1"
   ]
  },
  {
   "cell_type": "code",
   "execution_count": null,
   "metadata": {},
   "outputs": [],
   "source": [
    "resample all classes WITH OUT majority class;\n",
    "remove Tomek’s links of majority NOT MINORITY class to remove space"
   ]
  },
  {
   "cell_type": "code",
   "execution_count": 110,
   "metadata": {},
   "outputs": [],
   "source": [
    "TL_Nm=TomekLinks(sampling_strategy='all',#Sampling information equivalent to 'not majority'. \n",
    "           n_jobs=None)\n",
    "\n",
    "som_NMA=SMOTE(sampling_strategy='not majority', #Sampling information  'not majority'.\n",
    "      random_state=None, #Control the randomization of the algorithm.\n",
    "      k_neighbors=5, # number of nearest neighbours to used to construct synthetic samples.\n",
    "      n_jobs=None)"
   ]
  },
  {
   "cell_type": "code",
   "execution_count": 111,
   "metadata": {},
   "outputs": [],
   "source": [
    "S_L=SMOTETomek(sampling_strategy='auto', #Sampling information equivalent to 'not majority'.\n",
    "           random_state=None, #Control the randomization of the algorithm.\n",
    "           smote=som_NMA, #The SMOTE object to use and SMOTE object with default parameters will be given.\n",
    "           tomek=TL_Nm, #The TomekLinks object to use\n",
    "           n_jobs=None)"
   ]
  },
  {
   "cell_type": "code",
   "execution_count": 112,
   "metadata": {},
   "outputs": [],
   "source": [
    "X_res, y_res = S_L.fit_resample(X, y)"
   ]
  },
  {
   "cell_type": "code",
   "execution_count": 113,
   "metadata": {},
   "outputs": [
    {
     "data": {
      "text/plain": [
       "7    76\n",
       "6    76\n",
       "5    76\n",
       "3    72\n",
       "2    72\n",
       "1    70\n",
       "Name: column_k, dtype: int64"
      ]
     },
     "execution_count": 113,
     "metadata": {},
     "output_type": "execute_result"
    }
   ],
   "source": [
    "y_res.value_counts()"
   ]
  },
  {
   "cell_type": "code",
   "execution_count": null,
   "metadata": {},
   "outputs": [],
   "source": []
  }
 ],
 "metadata": {
  "kernelspec": {
   "display_name": "Python 3.8.2 64-bit",
   "language": "python",
   "name": "python38264bit3cc16507011a48e5ad6af447e61a847b"
  },
  "language_info": {
   "codemirror_mode": {
    "name": "ipython",
    "version": 3
   },
   "file_extension": ".py",
   "mimetype": "text/x-python",
   "name": "python",
   "nbconvert_exporter": "python",
   "pygments_lexer": "ipython3",
   "version": "3.8.2"
  }
 },
 "nbformat": 4,
 "nbformat_minor": 4
}
